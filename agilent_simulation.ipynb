{
 "cells": [
  {
   "cell_type": "code",
   "execution_count": 1,
   "id": "d3dfec3e",
   "metadata": {
    "_cell_guid": "b1076dfc-b9ad-4769-8c92-a6c4dae69d19",
    "_uuid": "8f2839f25d086af736a60e9eeb907d3b93b6e0e5",
    "execution": {
     "iopub.execute_input": "2024-02-11T12:01:17.486103Z",
     "iopub.status.busy": "2024-02-11T12:01:17.485256Z",
     "iopub.status.idle": "2024-02-11T12:01:17.498977Z",
     "shell.execute_reply": "2024-02-11T12:01:17.497910Z"
    },
    "papermill": {
     "duration": 0.021989,
     "end_time": "2024-02-11T12:01:17.502027",
     "exception": false,
     "start_time": "2024-02-11T12:01:17.480038",
     "status": "completed"
    },
    "tags": []
   },
   "outputs": [],
   "source": [
    "import numpy as np, matplotlib.pyplot as plt\n",
    "from numpy import sin, arcsin, abs, pi\n",
    "\n",
    "def asin(angle):\n",
    "    return arcsin(angle)/np.pi*180"
   ]
  },
  {
   "cell_type": "markdown",
   "id": "f2447bf7",
   "metadata": {
    "papermill": {
     "duration": 0.002151,
     "end_time": "2024-02-11T12:01:17.507044",
     "exception": false,
     "start_time": "2024-02-11T12:01:17.504893",
     "status": "completed"
    },
    "tags": []
   },
   "source": [
    "### $ k_{in} + G = k_{dif} $\n",
    "### $ \\frac{2\\pi}{\\lambda} n_{inc} sin\\theta_{inc}  + \\frac{2\\pi}{\\Lambda} m = \\frac{2\\pi}{\\lambda} n_{trn} sin\\theta_{dif} $\n",
    "### $  n_{inc} sin\\theta_{inc} -  n_{trn} sin\\theta_{dif} = \\frac{\\lambda}{\\Lambda} m $\n",
    "# $ n_{trn} sin\\theta_m = sin\\theta_{inc} + m  \\frac{\\lambda}{\\Lambda}$"
   ]
  },
  {
   "cell_type": "code",
   "execution_count": 2,
   "id": "ec540c24",
   "metadata": {
    "execution": {
     "iopub.execute_input": "2024-02-11T12:01:17.514319Z",
     "iopub.status.busy": "2024-02-11T12:01:17.513350Z",
     "iopub.status.idle": "2024-02-11T12:01:17.582689Z",
     "shell.execute_reply": "2024-02-11T12:01:17.580963Z"
    },
    "papermill": {
     "duration": 0.0761,
     "end_time": "2024-02-11T12:01:17.585623",
     "exception": false,
     "start_time": "2024-02-11T12:01:17.509523",
     "status": "completed"
    },
    "tags": []
   },
   "outputs": [
    {
     "name": "stdout",
     "output_type": "stream",
     "text": [
      "94% measurement time reduction estimated\n"
     ]
    }
   ],
   "source": [
    "grating = 6000 # period in nm\n",
    "startw = 420   # start wavelength of the scan\n",
    "stopw = 3020   # stop wavelength of the scan\n",
    "Y_mode = 0     # specifying transmission\n",
    "startAng = 0\n",
    "stopAng = 0\n",
    "peakWdth = 100\n",
    "total = 0\n",
    "angle_step = 1\n",
    "\n",
    "def step(x):\n",
    "    if x>1:\n",
    "        return 1 \n",
    "    elif x ==0:\n",
    "        return 0\n",
    "    else:\n",
    "        return -1\n",
    "\n",
    "def give_me_angle(angle, m):\n",
    "    # transmission correction\n",
    "    if Y_mode == 0:\n",
    "        angle = -180 - angle if angle < 0 else 180 - angle\n",
    "        #startAng = -180 - startAng if startAng < 0 else 180 - startAng\n",
    "    #print('Corrected scan from '+ str(startAng) + ' to '+ str(stopAng))\n",
    "    \n",
    "    # checked for crashing\n",
    "    if -15 < angle < 15:\n",
    "        print(f\"there is no peak of order {m} in the range of {startw}nm and {stopw}nm\")\n",
    "    return angle\n",
    "        # Making sure startAng is actually smaller than stopAng\n",
    "    #print('Crush checked scan from '+ str(startAng) + ' to '+ str(stopAng))\n",
    "    #\n",
    "    #print('total'+str(total))\n",
    "\n",
    "def calculated(m, inc):\n",
    "    incAng = inc/180*np.pi\n",
    "    global total\n",
    "    #print('Order'+str(m))\n",
    "    if m != 0:\n",
    "        #original calculation\n",
    "        startAng = int(asin(step(m))) if abs(sin(incAng) + m * startw / grating) > 1 else int(asin(sin(incAng) + m * startw / grating))\n",
    "        stopAng = int(asin(step(m))) if abs(sin(incAng) + m * stopw / grating) > 1 else int(asin(sin(incAng) + m * stopw / grating))\n",
    "        #print('Originaly scan from '+ str(startAng) + ' to '+ str(stopAng))\n",
    "\n",
    "        # Making sure startAng is actually smaller than stopAng\n",
    "        if stopAng < startAng:\n",
    "            startAng, stopAng = stopAng, startAng\n",
    "\n",
    "        allowed_range_start = 200         ##  DEFINITELY DO THIS\n",
    "        allowed_range_end = 3000\n",
    "        #print(startAng, stopAng)\n",
    "\n",
    "        for a in range(startAng, stopAng + 1, angle_step):\n",
    "            angle = give_me_angle(a, inc)\n",
    "            wavelength = (sin(angle / 180 * pi) - sin(incAng)) * grating / m\n",
    "            beginWavelen = wavelength - peakWdth / 2\n",
    "            endWavelen = wavelength + peakWdth / 2#\n",
    "            #if wavelength < allowed_range_start or wavelength > allowed_range_end:\n",
    "                #print(\"peak to be scanned outside of allowed range 200-3000nm\")\n",
    "            #else:\n",
    "            order_scan_angles.add(angle)\n",
    "            total += 30\n",
    "            beginWavelen = max(allowed_range_start, min(beginWavelen, allowed_range_end))\n",
    "            endWavelen = max(allowed_range_start, min(endWavelen, allowed_range_end))\n",
    "                #print('      '+str(int(beginWavelen))+'-'+str(int(endWavelen))+'    '+ str(angle))\n",
    "    \n",
    "\n",
    "    \n",
    "    #print('\\n')\n",
    "total = 0\n",
    "scan_angles = 0\n",
    "inc_angles = range(-40,40,10)\n",
    "for inc in inc_angles:\n",
    "    order_scan_angles = set()\n",
    "    for m in range(-7,7):\n",
    "        calculated(m, inc)\n",
    "    scan_angles += len(order_scan_angles)\n",
    "\n",
    "normal = scan_angles*abs(startw-stopw)\n",
    "print(str(int((1-(total + len(inc_angles) * abs(startw-stopw))/normal)*100)) + \"% measurement time reduction estimated\")"
   ]
  },
  {
   "cell_type": "code",
   "execution_count": null,
   "id": "59e61dd0",
   "metadata": {
    "papermill": {
     "duration": 0.002523,
     "end_time": "2024-02-11T12:01:17.590828",
     "exception": false,
     "start_time": "2024-02-11T12:01:17.588305",
     "status": "completed"
    },
    "tags": []
   },
   "outputs": [],
   "source": []
  }
 ],
 "metadata": {
  "kaggle": {
   "accelerator": "none",
   "dataSources": [],
   "dockerImageVersionId": 30635,
   "isGpuEnabled": false,
   "isInternetEnabled": true,
   "language": "python",
   "sourceType": "notebook"
  },
  "kernelspec": {
   "display_name": "Python 3",
   "language": "python",
   "name": "python3"
  },
  "language_info": {
   "codemirror_mode": {
    "name": "ipython",
    "version": 3
   },
   "file_extension": ".py",
   "mimetype": "text/x-python",
   "name": "python",
   "nbconvert_exporter": "python",
   "pygments_lexer": "ipython3",
   "version": "3.10.12"
  },
  "papermill": {
   "default_parameters": {},
   "duration": 4.967318,
   "end_time": "2024-02-11T12:01:18.013972",
   "environment_variables": {},
   "exception": null,
   "input_path": "__notebook__.ipynb",
   "output_path": "__notebook__.ipynb",
   "parameters": {},
   "start_time": "2024-02-11T12:01:13.046654",
   "version": "2.4.0"
  }
 },
 "nbformat": 4,
 "nbformat_minor": 5
}
